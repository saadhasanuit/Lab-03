{
 "cells": [
  {
   "cell_type": "markdown",
   "metadata": {},
   "source": [
    "# LAB 03"
   ]
  },
  {
   "cell_type": "markdown",
   "metadata": {},
   "source": [
    "# Class Task"
   ]
  },
  {
   "cell_type": "markdown",
   "metadata": {},
   "source": [
    "# Program 1: Practicing with math operators"
   ]
  },
  {
   "cell_type": "code",
   "execution_count": 4,
   "metadata": {},
   "outputs": [
    {
     "name": "stdout",
     "output_type": "stream",
     "text": [
      "Sum is: 32\n",
      "Difference is: -12\n",
      "Product is: 220\n",
      "Division is: 0.45454545454545453\n",
      "Integer Division is: 0\n",
      "Raised to the Power is: 10000000000000000000000\n",
      "Remainder is: 10\n"
     ]
    }
   ],
   "source": [
    "# Math Operators in Python\n",
    "# taking two values\n",
    "a = 10\n",
    "b = 22\n",
    "# Using sum operator\n",
    "print (\"Sum is:\", a+b)\n",
    "# Using subtract operator\n",
    "print (\"Difference is:\", a-b)\n",
    "# Using multiplication operator\n",
    "print (\"Product is:\", a*b)\n",
    "# Using division operator\n",
    "print (\"Division is:\", a/b)\n",
    "# Using integer division operator\n",
    "print (\"Integer Division is:\", a//b)\n",
    "# Using power operator\n",
    "print (\"Raised to the Power is:\", a**b)\n",
    "# Using modulo operator\n",
    "print (\"Remainder is:\", a%b)"
   ]
  },
  {
   "cell_type": "markdown",
   "metadata": {},
   "source": [
    "# Program 2: Write a program to use assignment operators"
   ]
  },
  {
   "cell_type": "code",
   "execution_count": 5,
   "metadata": {},
   "outputs": [
    {
     "name": "stdout",
     "output_type": "stream",
     "text": [
      "8\n",
      "2\n",
      "15\n",
      "1.6666666666666667\n",
      "2\n",
      "1\n",
      "125\n",
      "1\n",
      "7\n",
      "6\n",
      "0\n",
      "40\n"
     ]
    }
   ],
   "source": [
    "x = 5\n",
    "x += 3\n",
    "print(x)\n",
    "x = 5\n",
    "x -= 3\n",
    "print(x)\n",
    "x = 5\n",
    "x *= 3\n",
    "print(x)\n",
    "x = 5\n",
    "x /= 3\n",
    "print(x)\n",
    "x = 5\n",
    "x%=3\n",
    "print(x)\n",
    "x = 5\n",
    "x//=3\n",
    "print(x)\n",
    "x = 5\n",
    "x **= 3\n",
    "print(x)\n",
    "x = 5\n",
    "x &= 3\n",
    "print(x)\n",
    "x = 5\n",
    "x |= 3\n",
    "print(x)\n",
    "x = 5\n",
    "x ^= 3\n",
    "print(x)\n",
    "x = 5\n",
    "x >>= 3\n",
    "print(x)\n",
    "x = 5\n",
    "x <<= 3\n",
    "print(x)"
   ]
  },
  {
   "cell_type": "markdown",
   "metadata": {},
   "source": [
    "# Program 3: Write a program to perform comparison operators."
   ]
  },
  {
   "cell_type": "code",
   "execution_count": 6,
   "metadata": {},
   "outputs": [
    {
     "name": "stdout",
     "output_type": "stream",
     "text": [
      "X is equal to Y: False\n",
      "X is not equal to Y: True\n",
      "X is Greater than Y: True\n",
      "X is Less than Y: False\n",
      "X is Greater than or equal to Y: True\n",
      "X is Less than or equal to Y: False\n"
     ]
    }
   ],
   "source": [
    "x = 20\n",
    "y = 15\n",
    "print(\"X is equal to Y:\", x == y)\n",
    "print(\"X is not equal to Y:\", x != y)\n",
    "print(\"X is Greater than Y:\",x > y)\n",
    "print(\"X is Less than Y:\",x < y)\n",
    "print(\"X is Greater than or equal to Y:\",x >= y)\n",
    "print(\"X is Less than or equal to Y:\",x <= y)"
   ]
  },
  {
   "cell_type": "markdown",
   "metadata": {},
   "source": [
    "# Program 4: Write a program to perform logical operators."
   ]
  },
  {
   "cell_type": "code",
   "execution_count": 7,
   "metadata": {},
   "outputs": [
    {
     "name": "stdout",
     "output_type": "stream",
     "text": [
      "True\n",
      "True\n",
      "False\n"
     ]
    }
   ],
   "source": [
    "x = 15\n",
    "print(x > 13 and x < 20)\n",
    "x = 25\n",
    "print(x > 23 or x < 24)\n",
    "x = 35\n",
    "print(not(x > 33 and x < 40))"
   ]
  },
  {
   "cell_type": "markdown",
   "metadata": {},
   "source": [
    "# Program 5: Write a program to perform identity operator."
   ]
  },
  {
   "cell_type": "code",
   "execution_count": 8,
   "metadata": {},
   "outputs": [
    {
     "name": "stdout",
     "output_type": "stream",
     "text": [
      "True\n",
      "False\n",
      "True\n"
     ]
    }
   ],
   "source": [
    "x = [\"ahmed\", \"bashir\"]\n",
    "y = [\"ahmed\", \"bashir\"]\n",
    "z = x\n",
    "print(x is z)\n",
    "print(x is y)\n",
    "print(x == y)"
   ]
  },
  {
   "cell_type": "markdown",
   "metadata": {},
   "source": [
    "# Program 6: Performing is not identity operation."
   ]
  },
  {
   "cell_type": "code",
   "execution_count": 10,
   "metadata": {},
   "outputs": [
    {
     "name": "stdout",
     "output_type": "stream",
     "text": [
      "False\n",
      "True\n",
      "True\n"
     ]
    }
   ],
   "source": [
    "x = [\"ahmed\", \"bashir\"]\n",
    "y = [\"ahmed\", \"bashir\"]\n",
    "z = x\n",
    "print(x is not z)\n",
    "print(x is not y)\n",
    "print(x is not y)"
   ]
  },
  {
   "cell_type": "markdown",
   "metadata": {},
   "source": [
    "# Program 7: Performing 'in' membership operation."
   ]
  },
  {
   "cell_type": "code",
   "execution_count": 11,
   "metadata": {},
   "outputs": [
    {
     "name": "stdout",
     "output_type": "stream",
     "text": [
      "True\n"
     ]
    }
   ],
   "source": [
    "x = [\"wasim\", \"lubaid\", \"shahroz\", \"usman\", \"faisal\", \"farhan\"]\n",
    "print(\"faisal\" in x)"
   ]
  },
  {
   "cell_type": "markdown",
   "metadata": {},
   "source": [
    "# Program 8: Performing 'not in' membership operation."
   ]
  },
  {
   "cell_type": "code",
   "execution_count": 12,
   "metadata": {},
   "outputs": [
    {
     "name": "stdout",
     "output_type": "stream",
     "text": [
      "True\n"
     ]
    }
   ],
   "source": [
    "x = [\"wasim\", \"lubaid\", \"shahroz\", \"usman\", \"faisal\", \"farhan\"]\n",
    "print(\"parkash\" not in x)"
   ]
  },
  {
   "cell_type": "markdown",
   "metadata": {},
   "source": [
    "# Program 9: You are planning to throw a small bird at a distance d, with time t, and height h to some structure. Write a code in which you will use the physical quantities such as initial velocity, final velocity, angle in radians, gravity, height, sling shot etc."
   ]
  },
  {
   "cell_type": "code",
   "execution_count": 15,
   "metadata": {},
   "outputs": [
    {
     "name": "stdout",
     "output_type": "stream",
     "text": [
      "Give me a velocity to fire at (in m/s): 35\n",
      "Give me an angle to fire at: 45\n",
      "Give me how far away you are from the structure: 10\n",
      "Give me the height of the structure (in meters): 12\n",
      "3.3286633954186478\n"
     ]
    }
   ],
   "source": [
    "import math\n",
    "# User inputs\n",
    "velocity = float(input('Give me a velocity to fire at (in m/s): '))\n",
    "angle = float(input('Give me an angle to fire at: '))\n",
    "distance = float(input('Give me how far away you are from the structure: '))\n",
    "height = float(input('Give me the height of the structure (in meters): '))\n",
    "slingshot = 5 #Height of slingshot in meters\n",
    "gravity = 9.8 #Earth gravity\n",
    "# Converting angles to radians\n",
    "angleRad = math.radians(angle)\n",
    "# Computing our x and y coordinate\n",
    "x = math.cos(angleRad)\n",
    "y = math.sin(angleRad)\n",
    "# Calculations\n",
    "time = distance/(velocity * x)\n",
    "vx = x\n",
    "vy = y + (-9.8 * time)\n",
    "finalVelocity = math.sqrt((vx ** 2) + (vy ** 2))\n",
    "print(finalVelocity)"
   ]
  },
  {
   "cell_type": "markdown",
   "metadata": {},
   "source": [
    "# Home Task"
   ]
  },
  {
   "cell_type": "markdown",
   "metadata": {},
   "source": [
    "# QUESTION 1\n",
    "A ball at the end of a string is revolving uniformly in a horizontal circle of radius 2 meters at constant angular speed 10 rad/s. Determine the magnitude of the linear velocity of a point located: \n",
    "    (a) 0.5 meters from the center \n",
    "    (b) 1 meter from the center \n",
    "    (c) 2 meters from the center"
   ]
  },
  {
   "cell_type": "code",
   "execution_count": 3,
   "metadata": {},
   "outputs": [
    {
     "name": "stdout",
     "output_type": "stream",
     "text": [
      "Radius 1 is: 0.5 m\n",
      "Radius 2 is: 1.0 m\n",
      "Radius 3 is: 2.0 m\n",
      "The Angular Speed is: 10.0 radians/sec\n",
      "Linear Velocity = Radius x Angular Speed\n",
      "The Linear Velocity for Radius 1 is: 5.0 m/sec\n",
      "The Linear Velocity for Radius 2 is: 10.0 m/sec\n",
      "The Linear Velocity for Radius 3 is: 20.0 m/sec\n"
     ]
    }
   ],
   "source": [
    "# Taking three values of Radius\n",
    "r1 = float(0.5)\n",
    "r2 = float(1)\n",
    "r3 = float(2)\n",
    "print(\"Radius 1 is: \"+str(r1)+ \" m\")\n",
    "print(\"Radius 2 is: \"+str(r2)+ \" m\")\n",
    "print(\"Radius 3 is: \"+str(r3)+ \" m\")\n",
    "# Taking the value of Angular Speed\n",
    "angular_speed = float(10)\n",
    "print(\"The Angular Speed is: \"+str(angular_speed)+ \" radians/sec\")\n",
    "# Finding Linear Velocity\n",
    "print(\"Linear Velocity = Radius x Angular Speed\")\n",
    "linear_velocity1 = r1*angular_speed\n",
    "linear_velocity2 = r2*angular_speed\n",
    "linear_velocity3 = r3*angular_speed\n",
    "print(\"The Linear Velocity for Radius 1 is: \"+str(linear_velocity1)+ \" m/sec\")\n",
    "print(\"The Linear Velocity for Radius 2 is: \"+str(linear_velocity2)+ \" m/sec\")\n",
    "print(\"The Linear Velocity for Radius 3 is: \"+str(linear_velocity3)+ \" m/sec\")"
   ]
  },
  {
   "cell_type": "markdown",
   "metadata": {},
   "source": [
    "# QUESTION 2\n",
    "The blades in a blender rotate at a rate of 5000 rpm. Determine the magnitude of the linear velocity: \n",
    "(a) a point located 5 cm from the center \n",
    "(b) a point located 10 cm from the center"
   ]
  },
  {
   "cell_type": "code",
   "execution_count": 6,
   "metadata": {
    "scrolled": true
   },
   "outputs": [
    {
     "name": "stdout",
     "output_type": "stream",
     "text": [
      "The Radius 1 is: 0.05 m\n",
      "The Radius 2 is: 0.1 m\n",
      "The Angular Speed is: 523.3 radians/sec\n",
      "Linear Velocity = Radius x Angular Speed\n",
      "The Linear Velocity of Radius 1 is: 26.165 m/sec\n",
      "The Linear Velocity of Radius 2 is: 52.33 m/sec\n"
     ]
    }
   ],
   "source": [
    "# Taking two values of radius\n",
    "r1 = float(5)\n",
    "r2 = float(10)\n",
    "r1 /= 100\n",
    "r2 /= 100\n",
    "print(\"The Radius 1 is: \"+str(r1)+ \" m\")\n",
    "print(\"The Radius 2 is: \"+str(r2)+ \" m\")\n",
    "# Taking the value of Angular Speed\n",
    "angular_speed = float(523.3)\n",
    "print(\"The Angular Speed is: \"+str(angular_speed)+ \" radians/sec\")\n",
    "# Finding the magnitude of Linear Velocity\n",
    "print(\"Linear Velocity = Radius x Angular Speed\")\n",
    "linear_velocity1 = r1*angular_speed\n",
    "linear_velocity2 = r2*angular_speed\n",
    "print(\"The Linear Velocity of Radius 1 is: \"+str(linear_velocity1)+ \" m/sec\")\n",
    "print(\"The Linear Velocity of Radius 2 is: \"+str(linear_velocity2)+ \" m/sec\")"
   ]
  },
  {
   "cell_type": "markdown",
   "metadata": {},
   "source": [
    "# QUESTION 3\n",
    "A point on the edge of a wheel 30 cm in radius, around a circle at constant speed 10 meters/second. What is the magnitude of the angular velocity?"
   ]
  },
  {
   "cell_type": "code",
   "execution_count": 8,
   "metadata": {},
   "outputs": [
    {
     "name": "stdout",
     "output_type": "stream",
     "text": [
      "The Radius is : 0.3 m\n",
      "The Linear Velocity is : 10.0 m/sec\n",
      "Angular Velocity = Linear Velocity / Radius\n",
      "The Angular Velocity is : 33.333333333333336 Radians/sec\n"
     ]
    }
   ],
   "source": [
    "# Taking the value of Radius\n",
    "radius = float(30)\n",
    "radius /= 100\n",
    "print(\"The Radius is : \"+str(radius)+ \" m\")\n",
    "# Taking the value of Linear Velocity\n",
    "linear_velocity = float(10)\n",
    "print(\"The Linear Velocity is : \"+str(linear_velocity)+ \" m/sec\")\n",
    "# Finding the Angular Velocity\n",
    "print(\"Angular Velocity = Linear Velocity / Radius\")\n",
    "angular_velocity = linear_velocity/radius\n",
    "print(\"The Angular Velocity is : \"+str(angular_velocity)+ \" Radians/sec\")"
   ]
  },
  {
   "cell_type": "markdown",
   "metadata": {},
   "source": [
    "# QUESTION 4\n",
    "A car with tires 50 cm in diameter travels 10 meters in 1 second. What is the angular speed?"
   ]
  },
  {
   "cell_type": "code",
   "execution_count": 9,
   "metadata": {},
   "outputs": [
    {
     "name": "stdout",
     "output_type": "stream",
     "text": [
      "The Radius is : 0.25 m\n",
      "The Linear Speed is :10.0 m/sec\n",
      "Angular Speed = Linear Speed / Radius\n",
      "The Angular Speed is : 40.0 Radians/sec\n"
     ]
    }
   ],
   "source": [
    "# Taking value of Radius\n",
    "radius = float(0.25)\n",
    "print(\"The Radius is : \"+str(radius)+ \" m\")\n",
    "# Taking the value of Linear Speed\n",
    "linear_speed = float(10)\n",
    "print(\"The Linear Speed is :\"+str(linear_speed)+ \" m/sec\")\n",
    "# Finding the Angular Speed\n",
    "print(\"Angular Speed = Linear Speed / Radius\")\n",
    "angular_speed = linear_speed/radius\n",
    "print(\"The Angular Speed is : \"+str(angular_speed)+ \" Radians/sec\")"
   ]
  },
  {
   "cell_type": "markdown",
   "metadata": {},
   "source": [
    "# QUESTION 5\n",
    "The angular speed of wheel 20 cm in radians is 120 rpm. What is the distance if the car travels in 10 seconds."
   ]
  },
  {
   "cell_type": "code",
   "execution_count": 11,
   "metadata": {},
   "outputs": [
    {
     "name": "stdout",
     "output_type": "stream",
     "text": [
      "The Radius is : 0.2 m\n",
      "The Angular Speed is :12.56 Radians/sec\n",
      "The Time is : 10.0 sec\n",
      "Distance = Time x Radius x Angular Speed\n",
      "The Distance car travels is : 25.12 m\n"
     ]
    }
   ],
   "source": [
    "# Taking value of Radius\n",
    "radius = float(0.2)\n",
    "print(\"The Radius is : \"+str(radius)+ \" m\")\n",
    "# Taking value of Angular Speed\n",
    "angular_speed = float(12.56)\n",
    "print(\"The Angular Speed is :\"+str(angular_speed)+ \" Radians/sec\")\n",
    "# taking value of time\n",
    "time = float(10)\n",
    "print(\"The Time is : \"+str(time)+ \" sec\")\n",
    "# Finding the value of Distance\n",
    "print(\"Distance = Time x Radius x Angular Speed\")\n",
    "distance = time*radius*angular_speed\n",
    "print(\"The Distance car travels is : \"+str(distance)+ \" m\")"
   ]
  },
  {
   "cell_type": "markdown",
   "metadata": {},
   "source": [
    "# QUESTION 6\n",
    "A car is running at a velocity of 50 miles per hour and the driver accelerates the car by 10 miles/hr2. How far the car travels from this point in the next 2 hours, if the acceleration is constant."
   ]
  },
  {
   "cell_type": "code",
   "execution_count": 32,
   "metadata": {},
   "outputs": [
    {
     "name": "stdout",
     "output_type": "stream",
     "text": [
      "The Intial Velocity is : 50.0 Miles/Hr\n",
      "The Acceleration is : 10.0 Miles/Hr2\n",
      "The Time is : 2.0 Hr\n",
      "Final Velocity = Intial Velocity + Acceleration x Time\n",
      "The Final Velocity is : 70.0 Miles/Hr\n",
      "Distance = (Final Velocity)2 - (Intial Velocity)2 / 2 x Acceleration\n",
      "The Distance the car travels in 2 Hours is : 120.0 Miles\n"
     ]
    }
   ],
   "source": [
    "# Taking value of Intial Velocity\n",
    "intial_velocity = float(50)\n",
    "print(\"The Intial Velocity is : \"+str(intial_velocity)+ \" Miles/Hr\")\n",
    "# Taking value of Acceleration\n",
    "acceleration = float(10)\n",
    "print(\"The Acceleration is : \"+str(acceleration)+ \" Miles/Hr2\")\n",
    "# Taking value of Time\n",
    "time = float(2)\n",
    "print(\"The Time is : \"+str(time)+ \" Hr\")\n",
    "# Finding the value of Distance the car travels\n",
    "# In order to find Distance we need Final Velocity\n",
    "print(\"Final Velocity = Intial Velocity + Acceleration x Time\")\n",
    "final_velocity = intial_velocity+(acceleration*time)\n",
    "print(\"The Final Velocity is : \"+str(final_velocity)+ \" Miles/Hr\")\n",
    "print(\"Distance = (Final Velocity)2 - (Intial Velocity)2 / 2 x Acceleration\")\n",
    "distance = (((final_velocity)**2)-((intial_velocity)**2))/(2*acceleration)\n",
    "print(\"The Distance the car travels in 2 Hours is : \"+str(distance)+ \" Miles\")"
   ]
  },
  {
   "cell_type": "markdown",
   "metadata": {},
   "source": [
    "# QUESTION 7\n",
    "A Stone is dropped freely from a height of 100 feet. With what velocity will it hit the ground? (Neglect the air resistance and assume the acceleration due to gravity is 32ft/s2)."
   ]
  },
  {
   "cell_type": "code",
   "execution_count": 35,
   "metadata": {},
   "outputs": [
    {
     "name": "stdout",
     "output_type": "stream",
     "text": [
      "The Intal Velocity is : 0.0 Ft/sec\n",
      "The Height from which the stone is dropped : 100.0 m\n",
      "The Acceleration is : 32.0 Ft/sec2\n",
      "Final Velocity = (2 x Acceleration x Height + (Intial Velocity)2)1/2\n",
      "The Final Velocity with which the stone will hit the ground is : 80.0 Ft/sec\n"
     ]
    }
   ],
   "source": [
    "# Taking the value of Intial Velocity\n",
    "intial_velocity = float(0)\n",
    "print(\"The Intal Velocity is : \"+str(intial_velocity)+ \" Ft/sec\")\n",
    "# Taking the value of Height\n",
    "height = float(100)\n",
    "print(\"The Height from which the stone is dropped : \"+str(height)+ \" m\")\n",
    "# Taking the value of Acceleration\n",
    "acceleration = float(32)\n",
    "print(\"The Acceleration is : \"+str(acceleration)+ \" Ft/sec2\")\n",
    "# Finding the Final Velocity of the stone\n",
    "print(\"Final Velocity = (2 x Acceleration x Height + (Intial Velocity)2)1/2\")\n",
    "final_velocity = ((2*acceleration*height)+((intial_velocity)**2))**(1/2)\n",
    "print(\"The Final Velocity with which the stone will hit the ground is : \"+str(final_velocity)+ \" Ft/sec\")"
   ]
  },
  {
   "cell_type": "code",
   "execution_count": null,
   "metadata": {},
   "outputs": [],
   "source": []
  }
 ],
 "metadata": {
  "kernelspec": {
   "display_name": "Python 3",
   "language": "python",
   "name": "python3"
  },
  "language_info": {
   "codemirror_mode": {
    "name": "ipython",
    "version": 3
   },
   "file_extension": ".py",
   "mimetype": "text/x-python",
   "name": "python",
   "nbconvert_exporter": "python",
   "pygments_lexer": "ipython3",
   "version": "3.6.4"
  }
 },
 "nbformat": 4,
 "nbformat_minor": 2
}
